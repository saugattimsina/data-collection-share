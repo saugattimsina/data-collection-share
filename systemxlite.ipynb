{
 "metadata": {
  "language_info": {
   "codemirror_mode": {
    "name": "ipython",
    "version": 3
   },
   "file_extension": ".py",
   "mimetype": "text/x-python",
   "name": "python",
   "nbconvert_exporter": "python",
   "pygments_lexer": "ipython3",
   "version": "3.8.5-final"
  },
  "orig_nbformat": 2,
  "kernelspec": {
   "name": "python3",
   "display_name": "Python 3.8.5 64-bit ('env')",
   "metadata": {
    "interpreter": {
     "hash": "d976bc9b8b6f5b1b080632464797db4bbef42e8f4b31c0f707b51b1611caae0a"
    }
   }
  }
 },
 "nbformat": 4,
 "nbformat_minor": 2,
 "cells": [
  {
   "cell_type": "code",
   "execution_count": 2,
   "metadata": {},
   "outputs": [],
   "source": []
  },
  {
   "cell_type": "code",
   "execution_count": 8,
   "metadata": {},
   "outputs": [],
   "source": [
    "from seleniumwire import webdriver"
   ]
  },
  {
   "cell_type": "code",
   "execution_count": 18,
   "metadata": {},
   "outputs": [],
   "source": [
    "url = \"https://tradingview.systemxlite.com/systemxlite?tk=eyJ1c2VySWQiOjcxOTIsInRva2VuIjoiNTEweTF5NmY3aTBwanp5NmY3eHA0MnN3bHRibXFwMmRrNm13Z3ZjMmQ3cmo0cnQ1cjZ0eGl5dzQ2OHYzIn0=\"\n",
    "driver = webdriver.Chrome()\n"
   ]
  },
  {
   "cell_type": "code",
   "execution_count": 19,
   "metadata": {},
   "outputs": [],
   "source": [
    "driver.get(url)"
   ]
  },
  {
   "cell_type": "code",
   "execution_count": 21,
   "metadata": {},
   "outputs": [
    {
     "output_type": "stream",
     "name": "stdout",
     "text": [
      "https://accounts.google.com/ListAccounts?gpsia=1&source=ChromiumBrowser&json=standard\nhttps://tradingview.systemxlite.com/systemxlite?tk=eyJ1c2VySWQiOjcxOTIsInRva2VuIjoieGlpaTJ2OTZtbDJkMzFpY2wwNjNsZWttbmk1ejIyOG42cTgxY2NndTR6a3dzNHB3c2N1eXFiaWhtZmw0In0=\nhttps://tradingview.systemxlite.com/datafeeds/udf/dist/polyfills.js\nhttps://tradingview.systemxlite.com/datafeeds/udf/dist/bundle.js\nhttps://tradingview.systemxlite.com/static/css/main.dc1f3476.chunk.css\nhttps://tradingview.systemxlite.com/static/css/2.1b0c7de0.chunk.css\nhttps://tradingview.systemxlite.com/static/js/2.8f1352f7.chunk.js\nhttps://tradingview.systemxlite.com/static/js/main.29fff886.chunk.js\nhttps://fonts.googleapis.com/css?family=Poppins&display=swap\nhttps://fonts.googleapis.com/css2?family=Roboto&display=swap\nhttps://tradingview.systemxlite.com/tabicon.jpg\nhttps://backendtradingview.systemxlite.com/navbar/check?tk=eyJ1c2VySWQiOjcxOTIsInRva2VuIjoieGlpaTJ2OTZtbDJkMzFpY2wwNjNsZWttbmk1ejIyOG42cTgxY2NndTR6a3dzNHB3c2N1eXFiaWhtZmw0IiwiYXV0aGVudGljYXRpb24iOnRydWV9\nhttps://backendtradingview.systemxlite.com/navbar/getUserThemeById?userId=7192\nhttps://backendtradingview.systemxlite.com/tradingViewSystemxLite/config\nhttps://fonts.gstatic.com/s/roboto/v20/KFOmCnqEu92Fr1Mu4mxK.woff2\nhttps://tradingview.systemxlite.com/charting_library/en-tv-chart.b555c6a4.html\nhttps://backendtradingview.systemxlite.com/navbar/getUserThemeById?userId=7192\nhttps://backendtradingview.systemxlite.com/tradingViewSystemxlite/showOnChart?show=&userId=7192&portfolioId=0\nhttps://tradingview.systemxlite.com/charting_library/bundles/library.c9ed08366453322ce64f.css\nhttps://tradingview.systemxlite.com/charting_library/bundles/vendors.0cfb111426f49f90fa86.js\nhttps://tradingview.systemxlite.com/charting_library/bundles/library.3afef79a8ae8c7a5618e.js\nhttps://tradingview.systemxlite.com/charting_library/bundles/runtime.cc2522d6a97ad4920031.js\nhttps://backendtradingview.systemxlite.com/tradingViewSystemxLite/time\nhttps://tradingview.systemxlite.com/charting_library/bundles/30.d95a3f827655ae6f4d41.js\nhttps://tradingview.systemxlite.com/charting_library/bundles/15.c3822fc777211ee8315c.js\nhttps://tradingview.systemxlite.com/charting_library/bundles/63.1dcbc7aa3999df0c4e14.css\nhttps://tradingview.systemxlite.com/charting_library/bundles/77.251aca00b6d789124aa9.css\nhttps://tradingview.systemxlite.com/charting_library/bundles/39.9ca0e701a9ed5880e321.css\nhttps://tradingview.systemxlite.com/charting_library/bundles/32.27d1f6a4564f13116070.css\nhttps://tradingview.systemxlite.com/charting_library/bundles/1.92647ec0a7beb8b2898d.css\nhttps://tradingview.systemxlite.com/charting_library/bundles/4.4ff9c577f4760401b8ac.css\nhttps://tradingview.systemxlite.com/charting_library/bundles/23.d6e5c055df8f94e561a4.css\nhttps://tradingview.systemxlite.com/charting_library/bundles/8.451da7e139a77029afdd.css\nhttps://tradingview.systemxlite.com/charting_library/bundles/24.5e10ad1f5bf480fb2b22.css\nhttps://tradingview.systemxlite.com/charting_library/bundles/9.efabbd82e0d48b89b9ab.css\nhttps://tradingview.systemxlite.com/charting_library/bundles/26.af909889ef61e3630cfc.css\nhttps://backendtradingview.systemxlite.com/tradingViewSystemxLite/symbols?symbol=ADBL\nhttps://tradingview.systemxlite.com/charting_library/bundles/43.da62deb6f4f1ddeea0b7.css\nhttps://tradingview.systemxlite.com/charting_library/bundles/45.71eab448131944179f76.css\nhttps://tradingview.systemxlite.com/charting_library/bundles/46.fc24c2c028c08753d55b.css\nhttps://tradingview.systemxlite.com/charting_library/bundles/60.0b2b2d99a039b120fb25.css\nhttps://tradingview.systemxlite.com/charting_library/bundles/64.c7c323e7fdf173702b72.css\nhttps://tradingview.systemxlite.com/charting_library/bundles/69.ed35d12e9213121440b4.css\nhttps://tradingview.systemxlite.com/charting_library/bundles/70.736727f897e2be517230.css\nhttps://tradingview.systemxlite.com/charting_library/bundles/7.92647ec0a7beb8b2898d.css\nhttps://tradingview.systemxlite.com/charting_library/bundles/27.28593ed548e579e8b63d.css\nhttps://tradingview.systemxlite.com/charting_library/bundles/33.8dd04cdbdff54e865f75.css\nhttps://tradingview.systemxlite.com/charting_library/bundles/59.3c85911ad1fb5ec78b74.css\nhttps://backendtradingview.systemxlite.com/tradingViewSystemxLite/history?symbol=ADBL&resolution=1D&from=1581105887&to=1615233947\nhttps://tradingview.systemxlite.com/charting_library/bundles/68.f0d6d87e38e67f352f9e.css\nhttps://tradingview.systemxlite.com/charting_library/bundles/67.61a74b077527e7385641.css\nhttps://tradingview.systemxlite.com/charting_library/bundles/44.7ec72ee1a8a8ef96dbc9.css\nhttps://tradingview.systemxlite.com/charting_library/bundles/75.17abe3e8dce352c1b3ab.css\nhttps://tradingview.systemxlite.com/charting_library/bundles/72.c7dff1d5063ddf603a81.css\nhttps://tradingview.systemxlite.com/charting_library/bundles/35.cdf3658f4055352d11fd.js\nhttps://tradingview.systemxlite.com/charting_library/bundles/floating-toolbars.a42568ef140544275245.js\nhttps://tradingview.systemxlite.com/charting_library/bundles/57.7dbb2fa612975a074b3d.js\nhttps://tradingview.systemxlite.com/charting_library/bundles/47.bd5957415fc28f83be44.js\nhttps://tradingview.systemxlite.com/charting_library/bundles/react.5c26d836993909a1b0b6.js\nhttps://tradingview.systemxlite.com/charting_library/bundles/0.3a5522db90c672e977eb.js\nhttps://tradingview.systemxlite.com/charting_library/bundles/2.2db061cb0002d932bfba.js\nhttps://tradingview.systemxlite.com/charting_library/bundles/12.19fddd1156a17841a7f3.js\nhttps://tradingview.systemxlite.com/charting_library/bundles/14.f0c743fc89255ca1fdc0.js\nhttps://tradingview.systemxlite.com/charting_library/bundles/chart-widget-gui.5650b2a3d8cef650fbe8.js\nhttps://tradingview.systemxlite.com/charting_library/bundles/18.44a018fdf841b272e3c2.js\nhttps://tradingview.systemxlite.com/charting_library/bundles/52.e9f9363307cf0f56bd9b.js\nhttps://tradingview.systemxlite.com/charting_library/bundles/chart-bottom-toolbar.06ad0fcc06b649c280d0.js\nhttps://tradingview.systemxlite.com/charting_library/bundles/restricted-toolset.2bc02c414ab2f059164a.js\nhttps://tradingview.systemxlite.com/charting_library/bundles/header-toolbar.7934fd007ac019e54467.js\nhttps://tradingview.systemxlite.com/charting_library/bundles/38.f7058b17c9cf23a00b5b.js\nhttps://tradingview.systemxlite.com/charting_library/bundles/drawing-toolbar.3fe1c12b08f4d9eace86.js\nhttps://tradingview.systemxlite.com/charting_library/bundles/study-pane-views.f4a2713441042362cb3a.js\nhttps://tradingview.systemxlite.com/charting_library/bundles/40f9a03d174178efb12303caa9bc7cd8.woff2\nhttps://backendtradingview.systemxlite.com/chart/saveChart/1.1/study_templates?client=systemx.tradingview.com&user=7192\nhttps://tradingview.systemxlite.com/charting_library/bundles/87.ee16a5780032802b4163.css\nhttps://tradingview.systemxlite.com/charting_library/bundles/31.81abab3dfb2b9a5bdff1.css\nhttps://tradingview.systemxlite.com/charting_library/bundles/36.0f30a765c5ed2cc28e47.js\nhttps://tradingview.systemxlite.com/charting_library/bundles/42.ab85ca47ac2776a76a67.css\nhttps://tradingview.systemxlite.com/charting_library/bundles/symbolsearch.b5d84dc611e92a5b2187.js\nhttps://backendtradingview.systemxlite.com/tradingViewSystemxLite/marks?symbol=ADBL&from=1583817300&to=2114360100&resolution=D&userId=7192&source=systemxLite\nhttps://backendtradingview.systemxlite.com/tradingViewSystemxLite/timescale_marks?symbol=ADBL&from=1583817300&to=2114360100&resolution=D&userId=7192&source=systemxLite\nhttps://backendtradingview.systemxlite.com/tradingViewSystemxLite/history?symbol=ADBL&resolution=1D&from=1614369896&to=1615233896\nhttps://backendtradingview.systemxlite.com/tradingViewSystemxLite/history?symbol=ADBL&resolution=1D&from=1614369906&to=1615233906\nhttps://backendtradingview.systemxlite.com/tradingViewSystemxLite/history?symbol=ADBL&resolution=1D&from=1614369916&to=1615233916\n"
     ]
    }
   ],
   "source": [
    "for request in driver.requests:\n",
    "    if request.response:\n",
    "        print(\n",
    "            request.url\n",
    "        )"
   ]
  },
  {
   "cell_type": "code",
   "execution_count": null,
   "metadata": {},
   "outputs": [],
   "source": []
  }
 ]
}